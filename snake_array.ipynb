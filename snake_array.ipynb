{
  "nbformat": 4,
  "nbformat_minor": 0,
  "metadata": {
    "colab": {
      "name": "snake_array.ipynb",
      "version": "0.3.2",
      "provenance": [],
      "collapsed_sections": [],
      "include_colab_link": true
    },
    "kernelspec": {
      "name": "python3",
      "display_name": "Python 3"
    }
  },
  "cells": [
    {
      "cell_type": "markdown",
      "metadata": {
        "id": "view-in-github",
        "colab_type": "text"
      },
      "source": [
        "<a href=\"https://colab.research.google.com/github/CoderOverflow/python/blob/master/snake_array.ipynb\" target=\"_parent\"><img src=\"https://colab.research.google.com/assets/colab-badge.svg\" alt=\"Open In Colab\"/></a>"
      ]
    },
    {
      "cell_type": "code",
      "metadata": {
        "id": "JhAFiJ4iJ1bQ",
        "colab_type": "code",
        "colab": {
          "base_uri": "https://localhost:8080/",
          "height": 34
        },
        "outputId": "f1237080-f4dc-4483-e775-285cf7d2cde8"
      },
      "source": [
        "def snake_array(m, n):\n",
        "  l = m*n\n",
        "  a = [([0]*m) for i in range(n)]\n",
        "  i,j,v=0,0,1\n",
        "  status=0\n",
        "  \n",
        "  while(v < l+1):\n",
        "    a[i][j] = v\n",
        "    v=v+1\n",
        "    #假设从上边界开始\n",
        "    if status==0:\n",
        "      if j==m-1:\n",
        "        i=i+1\n",
        "      else:\n",
        "        j=j+1\n",
        "      status=1\n",
        "    elif status==1:\n",
        "      i=i+1\n",
        "      j=j-1\n",
        "      if j==0 or i==n-1:\n",
        "        status=2\n",
        "    elif status==2:\n",
        "      if i==n-1:\n",
        "        j=j+1\n",
        "      else:\n",
        "        i=i+1\n",
        "      status=3\n",
        "    elif status==3:\n",
        "      i=i-1\n",
        "      j=j+1\n",
        "      if i==0 or j==m-1:\n",
        "        status=0\n",
        "\n",
        "  print(a)\n",
        "  \n",
        "foo(5,6)\n",
        "  \n",
        "  "
      ],
      "execution_count": 90,
      "outputs": [
        {
          "output_type": "stream",
          "text": [
            "[[1, 2, 6, 7, 15], [3, 5, 8, 14, 16], [4, 9, 13, 17, 24], [10, 12, 18, 23, 25], [11, 19, 22, 26, 29], [20, 21, 27, 28, 30]]\n"
          ],
          "name": "stdout"
        }
      ]
    }
  ]
}